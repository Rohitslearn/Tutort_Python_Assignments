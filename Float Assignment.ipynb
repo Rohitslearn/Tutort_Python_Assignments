{
 "cells": [
  {
   "cell_type": "markdown",
   "id": "5688aff8",
   "metadata": {},
   "source": [
    "Q. Declare a float value and store it in a variable.\n",
    "Check the type and print the id of the same.\n"
   ]
  },
  {
   "cell_type": "code",
   "execution_count": 1,
   "id": "fbaec0f1",
   "metadata": {},
   "outputs": [
    {
     "data": {
      "text/plain": [
       "float"
      ]
     },
     "execution_count": 1,
     "metadata": {},
     "output_type": "execute_result"
    }
   ],
   "source": [
    "a = 23.4\n",
    "type(a)"
   ]
  },
  {
   "cell_type": "code",
   "execution_count": null,
   "id": "da8ddcf8",
   "metadata": {},
   "outputs": [],
   "source": [
    "Arithmetic Operations on float\n",
    "Take two different float values.\n",
    "Store them in two different variables.\n",
    "Do below operations on them:-\n",
    "Find sum of both numbers\n",
    "Find difference between them\n",
    "Find the product of both numbers.\n",
    "Find value after dividing first num with second number\n",
    "Find the remainder after dividing first number with second number\n",
    "Find the quotient after dividing first number with second number\n",
    "Find the result of the first num to the power of the second number."
   ]
  },
  {
   "cell_type": "code",
   "execution_count": 2,
   "id": "988a77ca",
   "metadata": {},
   "outputs": [
    {
     "name": "stdout",
     "output_type": "stream",
     "text": [
      "4.0\n",
      "-1.0\n",
      "3.75\n",
      "1.6666666666666667\n",
      "1.0\n",
      "1.0\n",
      "3.952847075210474\n"
     ]
    }
   ],
   "source": [
    "a = 2.5\n",
    "b = 1.5\n",
    "\n",
    "\n",
    "#Find sum of both numbers\n",
    "print(a+b)\n",
    "\n",
    "\n",
    "#Find difference between them\n",
    "print(b-a)\n",
    "\n",
    "#Find the product of both numbers.\n",
    "print(a*b)\n",
    "\n",
    "#Find value after dividing first num with second number\n",
    "print(a/b)\n",
    "\n",
    "#Find the remainder after dividing first number with second number\n",
    "print(a%b)\n",
    "\n",
    "#Find the quotient after dividing first number with second number\n",
    "print(a//b)\n",
    "\n",
    "#Find the result of the first num to the power of the second number.\n",
    "print(a**b)\n",
    "\n",
    "\n",
    "\n"
   ]
  },
  {
   "cell_type": "code",
   "execution_count": null,
   "id": "059191b4",
   "metadata": {},
   "outputs": [],
   "source": [
    "Comparison Operators on float\n",
    "Take two different float values.\n",
    "Store them in two different variables.\n",
    "Do below operations on them:-\n",
    "Compare these two numbers with below operator:-\n",
    "Greater than, '>'\n",
    "Smaller than, '<'\n",
    "Greater than or equal to, '>='\n",
    "Less than or equal to, '<='\n",
    "Observe their output(return type should be boolean)"
   ]
  },
  {
   "cell_type": "code",
   "execution_count": 3,
   "id": "8842a723",
   "metadata": {},
   "outputs": [
    {
     "name": "stdout",
     "output_type": "stream",
     "text": [
      "True\n",
      "False\n",
      "True\n",
      "False\n"
     ]
    }
   ],
   "source": [
    "a = 4.5\n",
    "b = 2.5\n",
    "\n",
    "#Greater than, '>'\n",
    "print(a>b)\n",
    "\n",
    "#Smaller than, '<'\n",
    "print(a<b)\n",
    "\n",
    "#Greater than or equal to, '>='\n",
    "print(a>=b)\n",
    "\n",
    "#Less than or equal to, '<='\n",
    "print(a<=b)\n",
    "\n",
    "#Observe their output(return type should be boolean)\n",
    "\n"
   ]
  },
  {
   "cell_type": "code",
   "execution_count": null,
   "id": "399113fc",
   "metadata": {},
   "outputs": [],
   "source": [
    "Q. Equality Operator\n",
    "Take two different float values.\n",
    "Store them in two different variables.\n",
    "Equate them using equality operators (==, !=)\n",
    "Observe the output(return type should be boolean)"
   ]
  },
  {
   "cell_type": "code",
   "execution_count": 4,
   "id": "9573da61",
   "metadata": {},
   "outputs": [
    {
     "name": "stdout",
     "output_type": "stream",
     "text": [
      "False\n",
      "True\n"
     ]
    }
   ],
   "source": [
    "a = 8.2\n",
    "b = 5.5\n",
    "\n",
    "#Equate them using equality operators (==, !=)\n",
    "print(a==b)\n",
    "print(a!=b)"
   ]
  },
  {
   "cell_type": "markdown",
   "id": "1fc419e4",
   "metadata": {},
   "source": [
    " Logical operators\n",
    "Observe the output of below code\n",
    "Cross check the output manually\n",
    "print(10.20 and 20.30) #both are true and second value taken\n",
    ">Output is 20.3\n",
    "print(0.0 and 20.30) #First is false so first value\n",
    "taken->Output is 0.0\n",
    "\n",
    "print(20.30 and 0.0) #Goes to till second and second value is\n",
    "false so second is taken>Output is 0.0\n",
    "print(0.0 and 0.0) #First is false so first value is\n",
    "taken->Output is 0.0\n",
    "print(10.20 or 20.30) #First is True so first value is\n",
    "taken>Output is 10.2\n",
    "print(0.0 or 20.30) #Goes to till second and second is true\n",
    "second value is taken->Output is 20.3\n",
    "print(20.30 or 0.0) #First is True so first value is\n",
    "taken->Output is 20.3\n",
    "print(0.0 or 0.0) #Goes to till second and second is also\n",
    "false and second value is taken>Output is 0.0\n",
    "print(not 10.20) #-Not of true is false->Output is False\n",
    "print(not 0.0) #Not of false is True>Output is True\n",
    "\n",
    "\n",
    "##yes checked manually ...................."
   ]
  },
  {
   "cell_type": "code",
   "execution_count": null,
   "id": "2bd67201",
   "metadata": {},
   "outputs": [],
   "source": [
    "Q. What is the output of expression inside print statement. Cross check\n",
    "before running the program.\n",
    "a = 10.20\n",
    "b - 10.20\n",
    "print(a is b) #True or False? True 10.20<256\n",
    "print(a is not b) #True or False? False\n",
    "Why the Id of float values are different when the same value is\n",
    "assigned to two different variables\n",
    "ex: a = 10.5 b=10.5. but id will be same if I assign the variable\n",
    "having float i.e. a=c then both a and c's Id are same"
   ]
  },
  {
   "cell_type": "code",
   "execution_count": 26,
   "id": "85253786",
   "metadata": {},
   "outputs": [
    {
     "name": "stdout",
     "output_type": "stream",
     "text": [
      "False\n",
      "False\n"
     ]
    }
   ],
   "source": [
    "a=10.20\n",
    "b-10.20\n",
    "\n",
    "print(a is b)\n",
    "print(b is a)"
   ]
  },
  {
   "cell_type": "code",
   "execution_count": 13,
   "id": "1b769811",
   "metadata": {},
   "outputs": [
    {
     "name": "stdout",
     "output_type": "stream",
     "text": [
      "10.2\n"
     ]
    }
   ],
   "source": [
    "print(a)"
   ]
  },
  {
   "cell_type": "code",
   "execution_count": 14,
   "id": "3f39bef2",
   "metadata": {},
   "outputs": [
    {
     "name": "stdout",
     "output_type": "stream",
     "text": [
      "5.5\n"
     ]
    }
   ],
   "source": [
    "print(b)"
   ]
  },
  {
   "cell_type": "code",
   "execution_count": 15,
   "id": "453436ae",
   "metadata": {},
   "outputs": [
    {
     "name": "stdout",
     "output_type": "stream",
     "text": [
      "-4.699999999999999\n"
     ]
    }
   ],
   "source": [
    "print(b-a)"
   ]
  },
  {
   "cell_type": "code",
   "execution_count": 22,
   "id": "8f1a6e89",
   "metadata": {},
   "outputs": [
    {
     "data": {
      "text/plain": [
       "140163619457008"
      ]
     },
     "execution_count": 22,
     "metadata": {},
     "output_type": "execute_result"
    }
   ],
   "source": [
    "a = float(10.20)\n",
    "b = float(10.20)\n",
    "\n",
    "id(a)\n"
   ]
  },
  {
   "cell_type": "code",
   "execution_count": 23,
   "id": "84f6fe73",
   "metadata": {},
   "outputs": [
    {
     "data": {
      "text/plain": [
       "140163619455664"
      ]
     },
     "execution_count": 23,
     "metadata": {},
     "output_type": "execute_result"
    }
   ],
   "source": [
    "id(b)"
   ]
  },
  {
   "cell_type": "code",
   "execution_count": 24,
   "id": "06747069",
   "metadata": {},
   "outputs": [
    {
     "name": "stdout",
     "output_type": "stream",
     "text": [
      "False\n"
     ]
    }
   ],
   "source": [
    "print(a is b)"
   ]
  },
  {
   "cell_type": "code",
   "execution_count": 25,
   "id": "c5ecaa15",
   "metadata": {},
   "outputs": [
    {
     "name": "stdout",
     "output_type": "stream",
     "text": [
      "False\n"
     ]
    }
   ],
   "source": [
    "print(b is a)"
   ]
  },
  {
   "cell_type": "code",
   "execution_count": 29,
   "id": "3adc39ac",
   "metadata": {},
   "outputs": [
    {
     "data": {
      "text/plain": [
       "140163557759888"
      ]
     },
     "execution_count": 29,
     "metadata": {},
     "output_type": "execute_result"
    }
   ],
   "source": [
    "a=20\n",
    "b=20\n",
    "\n",
    "id(a)\n"
   ]
  },
  {
   "cell_type": "code",
   "execution_count": 30,
   "id": "adb8fa48",
   "metadata": {},
   "outputs": [
    {
     "data": {
      "text/plain": [
       "140163557759888"
      ]
     },
     "execution_count": 30,
     "metadata": {},
     "output_type": "execute_result"
    }
   ],
   "source": [
    "id(b)"
   ]
  },
  {
   "cell_type": "code",
   "execution_count": 33,
   "id": "c7f1a61f",
   "metadata": {},
   "outputs": [
    {
     "ename": "SyntaxError",
     "evalue": "invalid syntax (1142883710.py, line 1)",
     "output_type": "error",
     "traceback": [
      "\u001b[0;36m  File \u001b[0;32m\"/var/folders/j0/crfrg2zj7mbcqwqb_49pmr6h0000gn/T/ipykernel_8173/1142883710.py\"\u001b[0;36m, line \u001b[0;32m1\u001b[0m\n\u001b[0;31m    Q. Bitwise operation is not applicable between instances of float.\u001b[0m\n\u001b[0m               ^\u001b[0m\n\u001b[0;31mSyntaxError\u001b[0m\u001b[0;31m:\u001b[0m invalid syntax\n"
     ]
    }
   ],
   "source": [
    "Q. Bitwise operation is not applicable between instances of float.\n",
    "Why the Id of float values are different when the same value is\n",
    "assigned to two different variables\n",
    "ex: a = 10.5 b=10.5. but id will be same if I assign the variable\n",
    "having float i.e. a=c then both a and c's Id are same\n",
    "Object reusability concept is not applicable on float values.\n",
    "\n",
    "a=2.5\n",
    "b=!a"
   ]
  },
  {
   "cell_type": "code",
   "execution_count": null,
   "id": "0a42850d",
   "metadata": {},
   "outputs": [],
   "source": [
    "Q. Membership operation\n",
    "in, not in are two membership operators and it returns boolean value\n",
    "print('2.7' in 'Python2.7.8') #True\n",
    "print(10.20 in [10,10.20,10+20j,'Python']) #True\n",
    "print(10.20 in (10,10.20,10+20j,'Python')) # True\n",
    "print(20.30 in {1,20.30,30+40j}) # True\n",
    "print(2.3 in {1:100, 2.3:200, 30+40j:300}) # True\n",
    "print(10 in range(20)) # True"
   ]
  },
  {
   "cell_type": "code",
   "execution_count": 37,
   "id": "8204e861",
   "metadata": {},
   "outputs": [
    {
     "name": "stdout",
     "output_type": "stream",
     "text": [
      "True\n"
     ]
    }
   ],
   "source": [
    "print('2.7' in 'Python2.7') "
   ]
  },
  {
   "cell_type": "code",
   "execution_count": 40,
   "id": "48c56c8f",
   "metadata": {},
   "outputs": [
    {
     "name": "stdout",
     "output_type": "stream",
     "text": [
      "True\n"
     ]
    }
   ],
   "source": [
    "print(10. in [10,10.,10+20j,'Python']) "
   ]
  },
  {
   "cell_type": "code",
   "execution_count": 41,
   "id": "f3e39fc2",
   "metadata": {},
   "outputs": [
    {
     "name": "stdout",
     "output_type": "stream",
     "text": [
      "range(0, 20)\n"
     ]
    }
   ],
   "source": [
    "print(range(20))"
   ]
  },
  {
   "cell_type": "code",
   "execution_count": 42,
   "id": "daca259b",
   "metadata": {},
   "outputs": [
    {
     "name": "stdout",
     "output_type": "stream",
     "text": [
      "True\n"
     ]
    }
   ],
   "source": [
    "print(10 in range(20))"
   ]
  },
  {
   "cell_type": "code",
   "execution_count": 44,
   "id": "33da7861",
   "metadata": {},
   "outputs": [
    {
     "name": "stdout",
     "output_type": "stream",
     "text": [
      "False\n"
     ]
    }
   ],
   "source": [
    "print('2.7' not in 'Python2.7.8')"
   ]
  },
  {
   "cell_type": "code",
   "execution_count": null,
   "id": "068dbb72",
   "metadata": {},
   "outputs": [],
   "source": [
    "print('2.7'  'Python2.7.8')"
   ]
  }
 ],
 "metadata": {
  "kernelspec": {
   "display_name": "Python 3 (ipykernel)",
   "language": "python",
   "name": "python3"
  },
  "language_info": {
   "codemirror_mode": {
    "name": "ipython",
    "version": 3
   },
   "file_extension": ".py",
   "mimetype": "text/x-python",
   "name": "python",
   "nbconvert_exporter": "python",
   "pygments_lexer": "ipython3",
   "version": "3.9.13"
  }
 },
 "nbformat": 4,
 "nbformat_minor": 5
}
