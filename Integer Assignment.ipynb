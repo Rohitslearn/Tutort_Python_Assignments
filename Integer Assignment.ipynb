{
 "cells": [
  {
   "cell_type": "code",
   "execution_count": 1,
   "id": "2dcb8ecb",
   "metadata": {},
   "outputs": [
    {
     "data": {
      "text/plain": [
       "int"
      ]
     },
     "execution_count": 1,
     "metadata": {},
     "output_type": "execute_result"
    }
   ],
   "source": [
    "#Q. Declare an int value and store it in a variable.Check the type and print the id of the same.\n",
    "a = 20\n",
    "b = 30\n"
   ]
  },
  {
   "cell_type": "code",
   "execution_count": 2,
   "id": "fc8bd9df",
   "metadata": {},
   "outputs": [
    {
     "data": {
      "text/plain": [
       "int"
      ]
     },
     "execution_count": 2,
     "metadata": {},
     "output_type": "execute_result"
    }
   ],
   "source": [
    "a = 20\n",
    "type(a)\n"
   ]
  },
  {
   "cell_type": "code",
   "execution_count": 3,
   "id": "9c1dd0be",
   "metadata": {},
   "outputs": [
    {
     "data": {
      "text/plain": [
       "int"
      ]
     },
     "execution_count": 3,
     "metadata": {},
     "output_type": "execute_result"
    }
   ],
   "source": [
    "b = 30\n",
    "type(b)"
   ]
  },
  {
   "cell_type": "code",
   "execution_count": null,
   "id": "c1a74fc9",
   "metadata": {},
   "outputs": [],
   "source": [
    "Q. Take one int value between 0 - 256.\n",
    "Assign it to two different variables.\n",
    "Check the id of both the variables. It should come the same. Check why?\n"
   ]
  },
  {
   "cell_type": "code",
   "execution_count": 4,
   "id": "a077df5f",
   "metadata": {},
   "outputs": [
    {
     "data": {
      "text/plain": [
       "140244733270928"
      ]
     },
     "execution_count": 4,
     "metadata": {},
     "output_type": "execute_result"
    }
   ],
   "source": [
    "a = 20\n",
    "id(a)\n",
    "\n"
   ]
  },
  {
   "cell_type": "code",
   "execution_count": 5,
   "id": "17160f7d",
   "metadata": {},
   "outputs": [
    {
     "data": {
      "text/plain": [
       "140244733270928"
      ]
     },
     "execution_count": 5,
     "metadata": {},
     "output_type": "execute_result"
    }
   ],
   "source": [
    "b = 20\n",
    "id(b)   \n",
    "\n",
    "#It should come the same. Check why?\n",
    "\n",
    "Due to object re-usebality of memory between 0 - 256 in integer "
   ]
  },
  {
   "cell_type": "code",
   "execution_count": null,
   "id": "f3fabd4c",
   "metadata": {},
   "outputs": [],
   "source": [
    "Q. Take one int value either less than -5 or greater than 256.\n",
    "Assign it to two different variables.\n",
    "Check the id of both the variables. It should come different.Check why?\n"
   ]
  },
  {
   "cell_type": "code",
   "execution_count": 8,
   "id": "7c287191",
   "metadata": {},
   "outputs": [
    {
     "data": {
      "text/plain": [
       "140244733270128"
      ]
     },
     "execution_count": 8,
     "metadata": {},
     "output_type": "execute_result"
    }
   ],
   "source": [
    "a = -6\n",
    "id(a)"
   ]
  },
  {
   "cell_type": "code",
   "execution_count": 9,
   "id": "ac22a98f",
   "metadata": {},
   "outputs": [
    {
     "data": {
      "text/plain": [
       "140244733270128"
      ]
     },
     "execution_count": 9,
     "metadata": {},
     "output_type": "execute_result"
    }
   ],
   "source": [
    "b= -6\n",
    "id(b)\n",
    "\n",
    "The object re-usebality of memory between -5 to 256 in integer so  int value either less than -5 or greater \n",
    "than 256.id are different"
   ]
  },
  {
   "cell_type": "code",
   "execution_count": null,
   "id": "2ec408a8",
   "metadata": {},
   "outputs": [],
   "source": [
    "Q. Arithmetic Operations on integers\n",
    "Take two different integer values.\n",
    "Store them in two different variables.\n",
    "Do below operations on them:-\n",
    "Find sum of both numbers\n",
    "Find difference between them\n",
    "Find the product of both numbers.\n",
    "Find value after dividing first num with second number\n",
    "Find the remainder after dividing first number with second number\n",
    "Find the quotient after dividing first number with second number\n",
    "Find the result of the first num to the power of the second number."
   ]
  },
  {
   "cell_type": "code",
   "execution_count": 10,
   "id": "d7c059fc",
   "metadata": {},
   "outputs": [
    {
     "name": "stdout",
     "output_type": "stream",
     "text": [
      "30\n",
      "-10\n",
      "200\n",
      "2.0\n",
      "0\n",
      "2\n",
      "10240000000000\n"
     ]
    }
   ],
   "source": [
    "a = 20\n",
    "b = 10\n",
    "\n",
    "#Find sum of both numbers\n",
    "print(a+b)\n",
    "\n",
    "\n",
    "#Find difference between them\n",
    "print(b-a)\n",
    "\n",
    "#Find the product of both numbers.\n",
    "print(a*b)\n",
    "\n",
    "#Find value after dividing first num with second number\n",
    "print(a/b)\n",
    "\n",
    "#Find the remainder after dividing first number with second number\n",
    "print(a%b)\n",
    "\n",
    "#Find the quotient after dividing first number with second number\n",
    "print(a//b)\n",
    "\n",
    "#Find the result of the first num to the power of the second number.\n",
    "print(a**b)"
   ]
  },
  {
   "cell_type": "code",
   "execution_count": null,
   "id": "fcd139de",
   "metadata": {},
   "outputs": [],
   "source": [
    "Q. Comparison Operators on integers\n",
    "Take two different integer values.\n",
    "Store them in two different variables.\n",
    "Do below operations on them:-\n",
    "Compare se two numbers with below operator:-\n",
    "Greater than, '>'\n",
    "Smaller than, '<'\n",
    "Greater than or equal to, '>='\n",
    "Less than or equal to, '<='\n",
    "Observe their output(return type should be boolean)"
   ]
  },
  {
   "cell_type": "code",
   "execution_count": 11,
   "id": "588ea83d",
   "metadata": {},
   "outputs": [
    {
     "name": "stdout",
     "output_type": "stream",
     "text": [
      "True\n",
      "False\n",
      "True\n",
      "False\n"
     ]
    }
   ],
   "source": [
    "a = 4\n",
    "b = 2\n",
    "\n",
    "#Greater than, '>'\n",
    "print(a>b)\n",
    "\n",
    "#Smaller than, '<'\n",
    "print(a<b)\n",
    "\n",
    "#Greater than or equal to, '>='\n",
    "print(a>=b)\n",
    "\n",
    "#Less than or equal to, '<='\n",
    "print(a<=b)\n",
    "\n",
    "#Observe their output(return type should be boolean)\n",
    "\n"
   ]
  },
  {
   "cell_type": "code",
   "execution_count": null,
   "id": "9172ee57",
   "metadata": {},
   "outputs": [],
   "source": [
    "Q. Equality Operator\n",
    "Take two different integer values.\n",
    "Store them in two different variables.\n",
    "Equate them using equality operators (==, !=)\n",
    "Observe the output(return type should be boolean)"
   ]
  },
  {
   "cell_type": "code",
   "execution_count": 12,
   "id": "b5f82a39",
   "metadata": {},
   "outputs": [
    {
     "name": "stdout",
     "output_type": "stream",
     "text": [
      "False\n",
      "True\n"
     ]
    }
   ],
   "source": [
    "a = 8\n",
    "b = 5\n",
    "\n",
    "#Equate them using equality operators (==, !=)\n",
    "print(a==b)\n",
    "print(a!=b)"
   ]
  },
  {
   "cell_type": "code",
   "execution_count": null,
   "id": "082d1297",
   "metadata": {},
   "outputs": [],
   "source": [
    "Q. Logical operators\n",
    "Observe the output of below code\n",
    "\n",
    "Cross check the output manually\n",
    "print(10 and 20)\n",
    "#----------------------------------------->Output is 20\n",
    "print(0 and 20)\n",
    "#----------------------------------------->Output is 0\n",
    "print(20 and 0)\n",
    "#----------------------------------------->Output is 0\n",
    "print(0 and 0)\n",
    "#----------------------------------------->Output is 0\n",
    "print(10 or 20)\n",
    "#----------------------------------------->Output is 10\n",
    "print(0 or 20)\n",
    "#----------------------------------------->Output is 20\n",
    "print(20 or 0)\n",
    "#----------------------------------------->Output is 20\n",
    "print(0 or 0)\n",
    "#----------------------------------------->Output is 0\n",
    "print(not 10)\n",
    "#----------------------------------------->Output is False\n",
    "print(not 0)\n",
    "#----------------------------------------->Output is True\n",
    "\n",
    "#yes cross checked"
   ]
  },
  {
   "cell_type": "code",
   "execution_count": null,
   "id": "c13c6ee7",
   "metadata": {},
   "outputs": [],
   "source": [
    "Q. Bitwise Operators\n",
    "Do below operations on the values provided below:-\n",
    "Bitwise and(&) -----------------------------------------> 10, 20\n",
    "-------> Output is 0\n",
    "Bitwise or(|) -----------------------------------------> 10, 20\n",
    "-------> Output is 30\n",
    "Bitwise(^) -----------------------------------------> 10, 20\n",
    "-------> Output is 30\n",
    "Bitwise negation(~) ------------------------------------> 10\n",
    "-------> Output is -11\n",
    "Bitwise left shift ------------------------------------> 10,2\n",
    "-------> Output is 40\n",
    "Bitwise right shift ------------------------------------> 10,2\n",
    "-------> Output is 2\n",
    "Cross check the output manually\n",
    "\n",
    "#yes cross checked manually"
   ]
  },
  {
   "cell_type": "code",
   "execution_count": null,
   "id": "8b66ba85",
   "metadata": {},
   "outputs": [],
   "source": [
    "x = 10\n",
    "y = 20\n",
    "\n",
    "#1st step - convert the values into bits\n",
    "10 --> binary ---> 1010\n",
    "4 --> binary ---> 10100\n",
    "\n",
    "\n",
    "#2nd step - do the and operation on binary value\n",
    "\n",
    "10 -->   1 0 1 0\n",
    "20 --> 1 0 1 0 0\n",
    "and -> 0 0 0 0 0\n",
    "\n",
    "#3rd step - conver the final answer 00000 to numbers ---> 0\n",
    "0 0 0 0 0 ---->0\n",
    "\n",
    "#2nd step - do the and operation on binary value\n",
    "10 -->   1 0 1 0\n",
    "20 --> 1 0 1 0 0\n",
    "or -> 1 1 1 1 0\n",
    "\n",
    "#3rd step - conver the final answer 11110 to numbers ---> 30\n",
    "1 1 1 1 0 ----> 30\n",
    "\n",
    "verfied manually\n"
   ]
  },
  {
   "cell_type": "code",
   "execution_count": 16,
   "id": "a942a3b9",
   "metadata": {},
   "outputs": [
    {
     "data": {
      "text/plain": [
       "'0b10100'"
      ]
     },
     "execution_count": 16,
     "metadata": {},
     "output_type": "execute_result"
    }
   ],
   "source": [
    "bin(20)"
   ]
  },
  {
   "cell_type": "code",
   "execution_count": null,
   "id": "46fe9255",
   "metadata": {},
   "outputs": [],
   "source": [
    "Q. What is the output of expression inside print statement. Cross check\n",
    "before running the program.\n",
    "\n",
    "a = 10\n",
    "b = 10\n",
    "print(a is b) #True or False?\n",
    "print(a is not b) #True or False?\n",
    "a = 1000\n",
    "b = 1000\n",
    "print(a is b) #True or False?\n",
    "print(a is not b) #True or False?"
   ]
  },
  {
   "cell_type": "code",
   "execution_count": 20,
   "id": "48bcc53c",
   "metadata": {},
   "outputs": [
    {
     "name": "stdout",
     "output_type": "stream",
     "text": [
      "True\n"
     ]
    }
   ],
   "source": [
    "a = 10\n",
    "b = 10\n",
    "print(a is b)\n"
   ]
  },
  {
   "cell_type": "code",
   "execution_count": 21,
   "id": "fb096818",
   "metadata": {},
   "outputs": [
    {
     "name": "stdout",
     "output_type": "stream",
     "text": [
      "True\n"
     ]
    }
   ],
   "source": [
    "print(b is a)"
   ]
  },
  {
   "cell_type": "code",
   "execution_count": 22,
   "id": "438cfb4c",
   "metadata": {},
   "outputs": [
    {
     "name": "stdout",
     "output_type": "stream",
     "text": [
      "False\n"
     ]
    }
   ],
   "source": [
    "print(a is not b)"
   ]
  },
  {
   "cell_type": "code",
   "execution_count": 23,
   "id": "22c3e301",
   "metadata": {},
   "outputs": [
    {
     "name": "stdout",
     "output_type": "stream",
     "text": [
      "False\n"
     ]
    }
   ],
   "source": [
    "a = 1000\n",
    "b = 1000\n",
    "\n",
    "print(a is b) # object reusabilty between 0 -250 so getting error "
   ]
  },
  {
   "cell_type": "code",
   "execution_count": 24,
   "id": "53afa315",
   "metadata": {},
   "outputs": [
    {
     "name": "stdout",
     "output_type": "stream",
     "text": [
      "True\n"
     ]
    }
   ],
   "source": [
    "print(a is not b)"
   ]
  },
  {
   "cell_type": "code",
   "execution_count": null,
   "id": "4592455a",
   "metadata": {},
   "outputs": [],
   "source": [
    "Q. What is the output of expression inside print statement. Cross check\n",
    "before running the program.\n",
    "print(10+(10*32)//2**5&20+(~(-10))<<2)\n",
    "\n",
    "\n",
    "# operator precedence\n",
    "\n",
    "()\n",
    "**\n",
    "+x, -x, ~x\n",
    "*,/,//,%\n",
    "+,-\n",
    "<<,>>\n",
    "$\n",
    "^\n",
    "|\n",
    "==, !=, >,>=,<,<=,is,is not, in, not in\n",
    "not\n",
    "and \n",
    "or"
   ]
  },
  {
   "cell_type": "code",
   "execution_count": 25,
   "id": "2aa7ae1e",
   "metadata": {},
   "outputs": [
    {
     "name": "stdout",
     "output_type": "stream",
     "text": [
      "320\n"
     ]
    }
   ],
   "source": [
    "print(10*32)"
   ]
  },
  {
   "cell_type": "code",
   "execution_count": 26,
   "id": "9eae294e",
   "metadata": {},
   "outputs": [
    {
     "name": "stdout",
     "output_type": "stream",
     "text": [
      "9\n"
     ]
    }
   ],
   "source": [
    "print(~(-10))"
   ]
  },
  {
   "cell_type": "code",
   "execution_count": null,
   "id": "02e96334",
   "metadata": {},
   "outputs": [],
   "source": [
    "(10+320//2**5&20+9<<2)"
   ]
  },
  {
   "cell_type": "code",
   "execution_count": 27,
   "id": "e9c37992",
   "metadata": {},
   "outputs": [
    {
     "name": "stdout",
     "output_type": "stream",
     "text": [
      "32\n"
     ]
    }
   ],
   "source": [
    "print(2**5)"
   ]
  },
  {
   "cell_type": "code",
   "execution_count": null,
   "id": "4fad84a6",
   "metadata": {},
   "outputs": [],
   "source": [
    "(10+320//32&20+9<<2)"
   ]
  },
  {
   "cell_type": "code",
   "execution_count": 28,
   "id": "7982b60e",
   "metadata": {},
   "outputs": [
    {
     "data": {
      "text/plain": [
       "10"
      ]
     },
     "execution_count": 28,
     "metadata": {},
     "output_type": "execute_result"
    }
   ],
   "source": [
    "320//32"
   ]
  },
  {
   "cell_type": "code",
   "execution_count": null,
   "id": "fbee23cb",
   "metadata": {},
   "outputs": [],
   "source": [
    "(10+10&20+9<<2)"
   ]
  },
  {
   "cell_type": "code",
   "execution_count": null,
   "id": "2fdd8861",
   "metadata": {},
   "outputs": [],
   "source": [
    "(20&29<<2)"
   ]
  },
  {
   "cell_type": "code",
   "execution_count": 29,
   "id": "2429cb14",
   "metadata": {},
   "outputs": [
    {
     "data": {
      "text/plain": [
       "116"
      ]
     },
     "execution_count": 29,
     "metadata": {},
     "output_type": "execute_result"
    }
   ],
   "source": [
    "(29<<2)"
   ]
  },
  {
   "cell_type": "code",
   "execution_count": 30,
   "id": "5fb0579e",
   "metadata": {},
   "outputs": [
    {
     "data": {
      "text/plain": [
       "20"
      ]
     },
     "execution_count": 30,
     "metadata": {},
     "output_type": "execute_result"
    }
   ],
   "source": [
    "(20&29)"
   ]
  },
  {
   "cell_type": "code",
   "execution_count": 31,
   "id": "d3b21663",
   "metadata": {},
   "outputs": [
    {
     "name": "stdout",
     "output_type": "stream",
     "text": [
      "20\n"
     ]
    }
   ],
   "source": [
    "print(10+(10*32)//2**5&20+(~(-10))<<2)"
   ]
  },
  {
   "cell_type": "code",
   "execution_count": null,
   "id": "c5fe63c1",
   "metadata": {},
   "outputs": [],
   "source": [
    "Q. Membership operation \n",
    "in, not in are two membership operators and it returns boolean value \n",
    "print('2' in 'Python2.7.8') \n",
    "print(10 in [10,10.20,10+20j,'Python']) \n",
    "print(10 in (10,10.20,10+20j,'Python')) \n",
    "print(2 in {1,2,3}) \n",
    "print(3 in {1:100, 2:200, 3:300}) \n",
    "print(10 in range(20)) "
   ]
  },
  {
   "cell_type": "code",
   "execution_count": 32,
   "id": "58588f18",
   "metadata": {},
   "outputs": [
    {
     "name": "stdout",
     "output_type": "stream",
     "text": [
      "True\n"
     ]
    }
   ],
   "source": [
    "print('2' in 'Python2.7.8') "
   ]
  },
  {
   "cell_type": "code",
   "execution_count": 33,
   "id": "e7fd9137",
   "metadata": {},
   "outputs": [
    {
     "name": "stdout",
     "output_type": "stream",
     "text": [
      "True\n"
     ]
    }
   ],
   "source": [
    "print(10 in [10,10.20,10+20j,'Python']) "
   ]
  },
  {
   "cell_type": "code",
   "execution_count": 34,
   "id": "b86cca0d",
   "metadata": {},
   "outputs": [
    {
     "name": "stdout",
     "output_type": "stream",
     "text": [
      "True\n"
     ]
    }
   ],
   "source": [
    "print(10 in (10,10.20,10+20j,'Python')) "
   ]
  },
  {
   "cell_type": "code",
   "execution_count": 35,
   "id": "158b1bdd",
   "metadata": {},
   "outputs": [
    {
     "name": "stdout",
     "output_type": "stream",
     "text": [
      "True\n"
     ]
    }
   ],
   "source": [
    "print(2 in {1,2,3}) "
   ]
  },
  {
   "cell_type": "code",
   "execution_count": 36,
   "id": "1c2c9d48",
   "metadata": {},
   "outputs": [
    {
     "name": "stdout",
     "output_type": "stream",
     "text": [
      "True\n"
     ]
    }
   ],
   "source": [
    "print(3 in {1:100, 2:200, 3:300}) "
   ]
  },
  {
   "cell_type": "code",
   "execution_count": 37,
   "id": "4246ac35",
   "metadata": {},
   "outputs": [
    {
     "name": "stdout",
     "output_type": "stream",
     "text": [
      "True\n"
     ]
    }
   ],
   "source": [
    "print(10 in range(20)) "
   ]
  },
  {
   "cell_type": "code",
   "execution_count": null,
   "id": "17adbce6",
   "metadata": {},
   "outputs": [],
   "source": [
    "Q. An integer can be represented in binary, octal or hexadecimal form. Declare one binary, \n",
    " one octal and one hexadecimal value and store them in three different variables. \n",
    "Convert 9876 to its binary, octal and hexadecimal equivalent and print their corresponding value. \n"
   ]
  },
  {
   "cell_type": "code",
   "execution_count": 43,
   "id": "fe88bb9e",
   "metadata": {},
   "outputs": [
    {
     "data": {
      "text/plain": [
       "'0xc'"
      ]
     },
     "execution_count": 43,
     "metadata": {},
     "output_type": "execute_result"
    }
   ],
   "source": [
    "hex(12)"
   ]
  },
  {
   "cell_type": "code",
   "execution_count": 41,
   "id": "7eabd740",
   "metadata": {},
   "outputs": [
    {
     "data": {
      "text/plain": [
       "int"
      ]
     },
     "execution_count": 41,
     "metadata": {},
     "output_type": "execute_result"
    }
   ],
   "source": [
    "a = 0b100\n",
    "b = 0o4\n",
    "c = \n"
   ]
  },
  {
   "cell_type": "code",
   "execution_count": 44,
   "id": "cc894fd0",
   "metadata": {},
   "outputs": [
    {
     "data": {
      "text/plain": [
       "'0b10011010010100'"
      ]
     },
     "execution_count": 44,
     "metadata": {},
     "output_type": "execute_result"
    }
   ],
   "source": [
    "bin(9876)"
   ]
  },
  {
   "cell_type": "code",
   "execution_count": 45,
   "id": "31c2ae8b",
   "metadata": {},
   "outputs": [
    {
     "data": {
      "text/plain": [
       "'0o23224'"
      ]
     },
     "execution_count": 45,
     "metadata": {},
     "output_type": "execute_result"
    }
   ],
   "source": [
    "oct(9876)"
   ]
  },
  {
   "cell_type": "code",
   "execution_count": 46,
   "id": "9ba0311d",
   "metadata": {},
   "outputs": [
    {
     "data": {
      "text/plain": [
       "'0x2694'"
      ]
     },
     "execution_count": 46,
     "metadata": {},
     "output_type": "execute_result"
    }
   ],
   "source": [
    "hex(9876)"
   ]
  },
  {
   "cell_type": "code",
   "execution_count": null,
   "id": "bab3cb1b",
   "metadata": {},
   "outputs": [],
   "source": [
    "Q. What will be the output of following:- \n",
    "a = 0b1010000 \n",
    "print(a) \n",
    "b = 0o7436 \n",
    "print(b) \n",
    "c = 0xfade \n",
    "print(c) \n",
    "print(bin(80))\n",
    "print(oct(3870)) print(hex(64222)) print(bin(0b1010000)) print(bin(0xfade)) print(oct(0xfade)) print(oct(0o7436))"
   ]
  },
  {
   "cell_type": "code",
   "execution_count": 47,
   "id": "0cb81bf5",
   "metadata": {},
   "outputs": [
    {
     "name": "stdout",
     "output_type": "stream",
     "text": [
      "80\n"
     ]
    }
   ],
   "source": [
    "a = 0b1010000 \n",
    "print(a) "
   ]
  },
  {
   "cell_type": "code",
   "execution_count": 48,
   "id": "39e759a2",
   "metadata": {},
   "outputs": [
    {
     "name": "stdout",
     "output_type": "stream",
     "text": [
      "3870\n"
     ]
    }
   ],
   "source": [
    "b = 0o7436 \n",
    "print(b) "
   ]
  },
  {
   "cell_type": "code",
   "execution_count": 49,
   "id": "a9f02aff",
   "metadata": {},
   "outputs": [
    {
     "name": "stdout",
     "output_type": "stream",
     "text": [
      "64222\n"
     ]
    }
   ],
   "source": [
    "c = 0xfade \n",
    "print(c) "
   ]
  },
  {
   "cell_type": "code",
   "execution_count": 50,
   "id": "263e45bb",
   "metadata": {},
   "outputs": [
    {
     "name": "stdout",
     "output_type": "stream",
     "text": [
      "0b1010000\n"
     ]
    }
   ],
   "source": [
    "print(bin(80))"
   ]
  },
  {
   "cell_type": "code",
   "execution_count": 52,
   "id": "c74bb61c",
   "metadata": {},
   "outputs": [
    {
     "name": "stdout",
     "output_type": "stream",
     "text": [
      "0o7436\n",
      "0xfade\n",
      "0b1010000\n",
      "0b1111101011011110\n",
      "0o175336\n",
      "0o7436\n"
     ]
    }
   ],
   "source": [
    "print(oct(3870))\n",
    "print(hex(64222)) \n",
    "print(bin(0b1010000)) \n",
    "print(bin(0xfade))\n",
    "print(oct(0xfade))\n",
    "print(oct(0o7436))"
   ]
  },
  {
   "cell_type": "code",
   "execution_count": 53,
   "id": "63a1c07d",
   "metadata": {},
   "outputs": [
    {
     "data": {
      "text/plain": [
       "'/Users/apple/Tutort Assignments'"
      ]
     },
     "execution_count": 53,
     "metadata": {},
     "output_type": "execute_result"
    }
   ],
   "source": [
    "pwd"
   ]
  },
  {
   "cell_type": "code",
   "execution_count": null,
   "id": "0e4ab015",
   "metadata": {},
   "outputs": [],
   "source": [
    "************************** Thanks ***********************************"
   ]
  }
 ],
 "metadata": {
  "kernelspec": {
   "display_name": "Python 3 (ipykernel)",
   "language": "python",
   "name": "python3"
  },
  "language_info": {
   "codemirror_mode": {
    "name": "ipython",
    "version": 3
   },
   "file_extension": ".py",
   "mimetype": "text/x-python",
   "name": "python",
   "nbconvert_exporter": "python",
   "pygments_lexer": "ipython3",
   "version": "3.9.13"
  }
 },
 "nbformat": 4,
 "nbformat_minor": 5
}
