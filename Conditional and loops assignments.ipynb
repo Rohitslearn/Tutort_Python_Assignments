{
 "cells": [
  {
   "cell_type": "code",
   "execution_count": 13,
   "id": "653407c4",
   "metadata": {},
   "outputs": [
    {
     "name": "stdout",
     "output_type": "stream",
     "text": [
      "Enter a number from 0 to 9: -1\n",
      "Invalid input. Please enter a number from 0 to 9.\n"
     ]
    }
   ],
   "source": [
    "#W. A P. which takes one number from 0 to 9 from the user and prints it in the word. And if the word is not from 0 to 9 then\n",
    "#it should print that number is outside of the range and program should exit.\n",
    "# For exapmple:- \n",
    "# input = 1\n",
    "# output = one\n",
    "\n",
    "\n",
    "number_words = ['zero', 'one', 'two', 'three', 'four', 'five', 'six', 'seven', 'eight', 'nine']\n",
    "\n",
    "number = input(\"Enter a number from 0 to 9: \")\n",
    "\n",
    "if number.isdigit():\n",
    "    number = int(number)\n",
    "    if 0 >= number <= 9:\n",
    "        print(number_words[number])\n",
    "    else:\n",
    "        print(\"Number is outside of the range.\")\n",
    "else:\n",
    "    print(\"Invalid input. Please enter a number from 0 to 9.\")\n",
    "\n",
    "    \n",
    "\n"
   ]
  },
  {
   "cell_type": "code",
   "execution_count": null,
   "id": "969fa978",
   "metadata": {},
   "outputs": [],
   "source": [
    "#W. A P. to implement calculator but the operation to be done and two numbers will be taken as input from user:-\n",
    "#Operation console should show below:-\n",
    "#     Please select any one operation from below:-\n",
    "#         * To add enter 1\n",
    "#         * to subtract enter 2\n",
    "#         * To multiply enter 3\n",
    "#         * To divide enter 4\n",
    "#         * To divide and find quotient enter 5\n",
    "#         * To divide and find remainder enter 6\n",
    "#         * To divide and find num1 to the power of num2 enter 7\n",
    "#         * To Come out of the program enter 8\n"
   ]
  },
  {
   "cell_type": "code",
   "execution_count": 92,
   "id": "712ae71e",
   "metadata": {},
   "outputs": [
    {
     "name": "stdout",
     "output_type": "stream",
     "text": [
      "Please select any one operation from below:\n",
      "  * To add enter 1\n",
      "  * To subtract enter 2\n",
      "  * To multiply enter 3\n",
      "  * To divide enter 4\n",
      "  * To divide and find quotient enter 5\n",
      "  * To divide and find remainder enter 6\n",
      "  * To divide and find num1 to the power of num2 enter 7\n",
      "  * To Come out of the program enter 8\n",
      "Enter your choice: 2\n",
      "Enter first number: 4\n",
      "Enter second number: 1\n",
      "The difference between 4.0 and 1.0 is 3.0\n",
      "Please select any one operation from below:\n",
      "  * To add enter 1\n",
      "  * To subtract enter 2\n",
      "  * To multiply enter 3\n",
      "  * To divide enter 4\n",
      "  * To divide and find quotient enter 5\n",
      "  * To divide and find remainder enter 6\n",
      "  * To divide and find num1 to the power of num2 enter 7\n",
      "  * To Come out of the program enter 8\n",
      "Enter your choice: 8\n",
      "Exiting the calculator program...\n"
     ]
    }
   ],
   "source": [
    "while True:\n",
    "    print(\"Please select any one operation from below:\")\n",
    "    print(\"  * To add enter 1\")\n",
    "    print(\"  * To subtract enter 2\")\n",
    "    print(\"  * To multiply enter 3\")\n",
    "    print(\"  * To divide enter 4\")\n",
    "    print(\"  * To divide and find quotient enter 5\")\n",
    "    print(\"  * To divide and find remainder enter 6\")\n",
    "    print(\"  * To divide and find num1 to the power of num2 enter 7\")\n",
    "    print(\"  * To Come out of the program enter 8\")\n",
    "    \n",
    "    choice = int(input(\"Enter your choice: \"))\n",
    "\n",
    "    if choice == 8:\n",
    "        print(\"Exiting the calculator program...\")\n",
    "        break\n",
    "        pass\n",
    "    \n",
    "    num1 = float(input(\"Enter first number: \"))\n",
    "    num2 = float(input(\"Enter second number: \"))\n",
    "\n",
    "    if choice == 1:\n",
    "        result = num1 + num2\n",
    "        print(\"The sum of {} and {} is {}\".format(num1, num2, result))\n",
    "    elif choice == 2:\n",
    "        result = num1 - num2\n",
    "        print(\"The difference between {} and {} is {}\".format(num1, num2, result))\n",
    "    elif choice == 3:\n",
    "        result = num1 * num2\n",
    "        print(\"The product of {} and {} is {}\".format(num1, num2, result))\n",
    "    elif choice == 4:\n",
    "        result = num1 / num2\n",
    "        print(\"The quotient when {} is divided by {} is {}\".format(num1, num2, result))\n",
    "    elif choice == 5:\n",
    "        result = num1 // num2\n",
    "        print(\"The quotient when {} is divided by {} is {}\".format(num1, num2, result))\n",
    "    elif choice == 6:\n",
    "        result = num1 % num2\n",
    "        print(\"The remainder when {} is divided by {} is {}\".format(num1, num2, result))\n",
    "    elif choice == 7:\n",
    "        result = num1 ** num2\n",
    "        print(\"{} to the power of {} is {}\".format(num1, num2, result))\n",
    "    else:\n",
    "        print(\"Invalid choice. Please try again.\")\n"
   ]
  },
  {
   "cell_type": "code",
   "execution_count": 100,
   "id": "becd37f4",
   "metadata": {},
   "outputs": [
    {
     "name": "stdout",
     "output_type": "stream",
     "text": [
      "enter a year2012\n",
      "Leap year\n"
     ]
    }
   ],
   "source": [
    "#W A P to check whether a year entered by user is an leap year or not?\n",
    "#Check with below input:-\n",
    "    #leap year:- 2012, 1968, 2004, 1200, 1600,2400\n",
    "    #Non-lear year:- 1971, 2006, 1700,1800,1900\n",
    "    \n",
    "year = int(input(\"enter a year\"))\n",
    "if (year%4==0 and year%100!=0 or year%400==0):\n",
    "    print(\"Leap year\")\n",
    "else:\n",
    "    print(\"Non leap year\")"
   ]
  },
  {
   "cell_type": "code",
   "execution_count": 101,
   "id": "e1ca85ba",
   "metadata": {},
   "outputs": [
    {
     "name": "stdout",
     "output_type": "stream",
     "text": [
      "Enter a number2\n",
      "That number is even number\n"
     ]
    }
   ],
   "source": [
    "#W A P which takes one number from the user and checks whether it is an even or odd number?, If it even then prints number is \n",
    "#even number else prints that number is odd number.\n",
    "\n",
    "num = int(input(\"Enter a number\"))\n",
    "\n",
    "if num%2==0:\n",
    "    print(\"That number is even number\")\n",
    "else:\n",
    "    print(\"That number is odd number\")"
   ]
  },
  {
   "cell_type": "code",
   "execution_count": 104,
   "id": "6b39b818",
   "metadata": {},
   "outputs": [
    {
     "name": "stdout",
     "output_type": "stream",
     "text": [
      "enter the num1: 2\n",
      "enter the num2: 2\n",
      "num1 is equal to num2 \n"
     ]
    }
   ],
   "source": [
    "#W A P which takes two numbers from the user and prints below output:-\n",
    "#     1. num1 is greater than num2 if num1 is greater than num2\n",
    "#     2. num1 is smaller than num2 if num1 is smaller than num2\n",
    "#     3. num1 is equal to num2 if num1 and num2 are equal\n",
    "\n",
    "#Note:- 1. Do this problem using if - else \n",
    "#       2. Do this using ternary operator\n",
    "\n",
    "num1 = int(input(\"enter the num1: \"))\n",
    "num2 = int(input(\"enter the num2: \"))\n",
    "\n",
    "if num1>num2:\n",
    "    print(\"num1 is greater than num2\")\n",
    "else num1<num2:\n",
    "    print(\"num1 is smaller than num2\")\n",
    "else:\n",
    "    print(\"num1 is equal to num2 \")\n",
    "\n",
    "\n",
    "\n"
   ]
  },
  {
   "cell_type": "code",
   "execution_count": 105,
   "id": "71de96e7",
   "metadata": {},
   "outputs": [
    {
     "name": "stdout",
     "output_type": "stream",
     "text": [
      "Enter first number: 2\n",
      "Enter second number: 3\n",
      "Enter third number: 4\n",
      "4.0 is greater than 2.0 and 3.0\n"
     ]
    }
   ],
   "source": [
    "#W A P which takes three numbers from the user and prints below output:-\n",
    "#     1. num1 is greater than num2 and num3 if num1 is greater than num2 and num3\n",
    "#     2. num2 is greater than num1 and num3 if num2 is greater than num1 and num3\n",
    "#     3. num3 is greater than num1 and num2 if num3 is greater than num1 and num2\n",
    "\n",
    "#Note:- 1. Do this problem using if - elif - else \n",
    "#       2. Do this using ternary operator\n",
    "\n",
    "# a = a if a>b else b\n",
    "\n",
    "\n",
    "num1 = float(input(\"Enter first number: \"))\n",
    "num2 = float(input(\"Enter second number: \"))\n",
    "num3 = float(input(\"Enter third number: \"))\n",
    "\n",
    "if num1 > num2 and num1 > num3:\n",
    "    print(num1, \"is greater than\", num2, \"and\", num3)\n",
    "elif num2 > num1 and num2 > num3:\n",
    "    print(num2, \"is greater than\", num1, \"and\", num3)\n",
    "else:\n",
    "    print(num3, \"is greater than\", num1, \"and\", num2)\n",
    "\n"
   ]
  },
  {
   "cell_type": "code",
   "execution_count": null,
   "id": "6b6188ed",
   "metadata": {},
   "outputs": [],
   "source": [
    "#Write a Python program to find the length of the my_str using loop:-\n",
    "\n",
    "#Input:- 'Write a Python program to find the length of the my_str'\n",
    "#Output:- 55"
   ]
  },
  {
   "cell_type": "code",
   "execution_count": 111,
   "id": "2ef95152",
   "metadata": {},
   "outputs": [
    {
     "name": "stdout",
     "output_type": "stream",
     "text": [
      "The length of the string is: 55\n"
     ]
    }
   ],
   "source": [
    "my_str = 'Write a Python program to find the length of the my_str'\n",
    "\n",
    "count = 0\n",
    "\n",
    "for char in my_str:\n",
    "    count += 1\n",
    "\n",
    "print(\"The length of the string is:\", count)\n"
   ]
  },
  {
   "cell_type": "code",
   "execution_count": 133,
   "id": "9588b5d0",
   "metadata": {},
   "outputs": [
    {
     "name": "stdout",
     "output_type": "stream",
     "text": [
      "9\n"
     ]
    }
   ],
   "source": [
    "#Write a Python program to find the total number of times letter 'p' is appeared in the below string using loop:-\n",
    "    \n",
    "#Input:- 'peter piper picked a peck of pickled peppers.\\n'\n",
    "#Output:- 9\n",
    "\n",
    "inp = 'peter piper picked a peck of pickled peppers.\\n'\n",
    "\n",
    "count = 0\n",
    "\n",
    "for i in inp:\n",
    "    if i == 'p':\n",
    "        count +=1\n",
    "print(count)\n"
   ]
  },
  {
   "cell_type": "code",
   "execution_count": 131,
   "id": "5cddb6bf",
   "metadata": {},
   "outputs": [
    {
     "name": "stdout",
     "output_type": "stream",
     "text": [
      "0\n",
      "6\n",
      "8\n",
      "12\n",
      "21\n",
      "29\n",
      "37\n",
      "39\n",
      "40\n"
     ]
    }
   ],
   "source": [
    "\n",
    "inp = 'peter piper picked a peck of pickled peppers.\\n'\n",
    "\n",
    "\n",
    "for i in range(len(inp)):\n",
    "    \n",
    "    if inp[i] == 'p':\n",
    "        print(i)\n",
    "    \n",
    "    \n",
    "\n",
    "\n",
    "        \n",
    "        "
   ]
  },
  {
   "cell_type": "code",
   "execution_count": 137,
   "id": "1475062a",
   "metadata": {},
   "outputs": [
    {
     "name": "stdout",
     "output_type": "stream",
     "text": [
      "['peter', 'piper', 'picked', 'a', 'peck', 'of', 'pickled', 'peppers.']\n"
     ]
    }
   ],
   "source": [
    "#Write a python program to find below output using loop:-\n",
    "\n",
    "#Input:- 'peter piper picked a peck of pickled peppers.'\n",
    "#Output:- ['peter', 'piper', 'picked', 'a', 'peck', 'of', 'pickled', 'peppers']\n",
    "\n",
    "Input = 'peter piper picked a peck of pickled peppers.'\n",
    "\n",
    "output=[]\n",
    "for i in Input.split():\n",
    "    output.append(i)\n",
    "print(output)\n",
    "    "
   ]
  },
  {
   "cell_type": "code",
   "execution_count": 160,
   "id": "146f01b9",
   "metadata": {},
   "outputs": [
    {
     "name": "stdout",
     "output_type": "stream",
     "text": [
      "peppers. pickled of peck a picked piper peter\n"
     ]
    }
   ],
   "source": [
    "my_str = 'peter piper picked a peck of pickled peppers.'\n",
    "words = my_str.split() # Splitting the string into a list of words\n",
    "reversed_str = ' '.join(words[::-1])\n",
    "\n",
    "print(reversed_str)\n"
   ]
  },
  {
   "cell_type": "code",
   "execution_count": 169,
   "id": "7fdeda5f",
   "metadata": {},
   "outputs": [
    {
     "name": "stdout",
     "output_type": "stream",
     "text": [
      "peppers. pickled of peck a picked piper peter\n"
     ]
    }
   ],
   "source": [
    "my_str = 'peter piper picked a peck of pickled peppers.'\n",
    "words = my_str.split() # Splitting the string into a list of words\n",
    "reversed_words = []\n",
    "\n",
    "for i in range(len(words)-1,-1,-1):\n",
    "    reversed_words.append(words[i])\n",
    "\n",
    "reversed_str = ' '.join(reversed_words)\n",
    "\n",
    "print(reversed_str)\n"
   ]
  },
  {
   "cell_type": "code",
   "execution_count": 171,
   "id": "303a895d",
   "metadata": {},
   "outputs": [
    {
     "name": "stdout",
     "output_type": "stream",
     "text": [
      "retep repip dekcip a kcep fo delkcip .sreppep\n"
     ]
    }
   ],
   "source": [
    "#Write a python program to find below output using loop:-\n",
    "\n",
    "#Input:- 'peter piper picked a peck of pickled peppers.'\n",
    "#Output:- 'retep repip dekcip a kcep fo delkcip sreppep'\n",
    "my_str = 'peter piper picked a peck of pickled peppers.'\n",
    "words = my_str.split() # Splitting the string into a list of words\n",
    "reversed_words = []\n",
    "\n",
    "for i in range(len(words)-1,-1,-1):\n",
    "    reversed_words.append(words[i])\n",
    "\n",
    "reversed_str = ' '.join(reversed_words)\n",
    "\n",
    "print(reversed_str[::-1])\n",
    "\n"
   ]
  },
  {
   "cell_type": "code",
   "execution_count": 173,
   "id": "f977c91b",
   "metadata": {},
   "outputs": [
    {
     "name": "stdout",
     "output_type": "stream",
     "text": [
      "Peter Piper Picked A Peck Of Pickled Peppers\n"
     ]
    }
   ],
   "source": [
    "#Write a python program to find below output using loop:-\n",
    "\n",
    "#Input:- 'peter piper picked a peck of pickled peppers.'\n",
    "#Output:- 'Peter Piper Picked A Peck Of Pickled Peppers'\n",
    "\n",
    "\n",
    "input_str = 'peter piper picked a peck of pickled peppers.'\n",
    "\n",
    "output_str = input_str.title()\n",
    "output_str = output_str.replace('.', '')\n",
    "\n",
    "print(output_str)\n",
    "\n",
    "\n"
   ]
  },
  {
   "cell_type": "code",
   "execution_count": 176,
   "id": "b55a9a50",
   "metadata": {},
   "outputs": [
    {
     "name": "stdout",
     "output_type": "stream",
     "text": [
      "['This', 'is', 'Python', 'class']\n"
     ]
    }
   ],
   "source": [
    "#Write a python program to find below output using loop:-\n",
    "\n",
    "#Input:- 'This is Python class', \n",
    "#Output:- ['This', 'is', 'Python class']\n",
    "\n",
    "Input = 'This is Python class'\n",
    "\n",
    "output=[]\n",
    "for i in Input.split():\n",
    "    output.append(i)\n",
    "\n",
    "for i in ou\n",
    "    \n",
    "    \n",
    "\n",
    "\n"
   ]
  },
  {
   "cell_type": "code",
   "execution_count": 185,
   "id": "7905fe4b",
   "metadata": {},
   "outputs": [
    {
     "name": "stdout",
     "output_type": "stream",
     "text": [
      "['This is', 'Python class']\n"
     ]
    }
   ],
   "source": [
    "string = 'This is Python class'\n",
    "sep = ' is'\n",
    "\n",
    "# split the string at the separator\n",
    "split_string = string.split(sep)\n",
    "\n",
    "# add the separator back to the first element of the split string\n",
    "split_string[0] += sep\n",
    "\n",
    "# loop through the split string and strip any extra whitespace\n",
    "for i in range(len(split_string)):\n",
    "    split_string[i] = split_string[i].strip()\n",
    "\n",
    "# print the final result\n",
    "print(split_string)\n"
   ]
  },
  {
   "cell_type": "code",
   "execution_count": 209,
   "id": "3ee556b8",
   "metadata": {},
   "outputs": [
    {
     "name": "stdout",
     "output_type": "stream",
     "text": [
      "********************Peck************************\n"
     ]
    }
   ],
   "source": [
    "#Write a python program to find below output (implements rjust and ljust) using loop:-\n",
    "\n",
    "#Input:- 'Peter Piper Picked A Peck Of Pickled Peppers.', sub_str = 'Peck', \n",
    "#Output:- '*********************Peck********************'\n",
    "\n",
    "Input ='Peter Piper Picked A Peck Of Pickled Peppers.'\n",
    "sub_str = 'Peck'\n",
    "\n",
    "output=[]\n",
    "for i in Input.split():\n",
    "        output.append(i)\n",
    "\n",
    "ab = output[4]\n",
    "c = ab.rjust(24,'*')\n",
    "d = c.ljust(48,'*')\n",
    "print(d)\n",
    "    \n"
   ]
  },
  {
   "cell_type": "code",
   "execution_count": 210,
   "id": "cc18d02c",
   "metadata": {},
   "outputs": [
    {
     "data": {
      "text/plain": [
       "'Peter Piper Picked A Pack Of Pickled Peppers.'"
      ]
     },
     "execution_count": 210,
     "metadata": {},
     "output_type": "execute_result"
    }
   ],
   "source": [
    "#Write a python program to implement replace method using loop. If sub_str is found in my_str then it will replace the first \n",
    "#occurrence of sub_str with new_str else it will will print sub_str not found:-\n",
    "\n",
    "#Input:- my_str = 'Peter Piper Picked A Peck Of Pickled Peppers.', sub_str = 'Peck', new_str = 'Pack'\n",
    "#Output:- 'Peter Piper Picked A Pack Of Pickled Peppers.'\n",
    "\n",
    "my_str = 'Peter Piper Picked A Peck Of Pickled Peppers.'\n",
    "sub_str = 'Peck'\n",
    "new_str = 'Pack'\n",
    "\n",
    "my_str.replace(sub_str,new_str)\n",
    "\n"
   ]
  },
  {
   "cell_type": "code",
   "execution_count": 211,
   "id": "f658d5d5",
   "metadata": {},
   "outputs": [
    {
     "name": "stdout",
     "output_type": "stream",
     "text": [
      "29\n"
     ]
    }
   ],
   "source": [
    "#Write a python program to implement index method using loop. If sub_str is found in my_str then it will print the index\n",
    "# of first occurrence of first character of matching string in my_str:-\n",
    "\n",
    "#Input:- my_str = 'Peter Piper Picked A Peck Of Pickled Peppers.', sub_str = 'Pickl'\n",
    "#Output:- 29\n",
    "\n",
    "my_str = 'Peter Piper Picked A Peck Of Pickled Peppers.'\n",
    "sub_str = 'Pickl'\n",
    "\n",
    "\n",
    "index = my_str.index(sub_str)\n",
    "print(index)\n",
    "\n"
   ]
  },
  {
   "cell_type": "code",
   "execution_count": null,
   "id": "536e0744",
   "metadata": {},
   "outputs": [],
   "source": []
  }
 ],
 "metadata": {
  "kernelspec": {
   "display_name": "Python 3 (ipykernel)",
   "language": "python",
   "name": "python3"
  },
  "language_info": {
   "codemirror_mode": {
    "name": "ipython",
    "version": 3
   },
   "file_extension": ".py",
   "mimetype": "text/x-python",
   "name": "python",
   "nbconvert_exporter": "python",
   "pygments_lexer": "ipython3",
   "version": "3.9.13"
  }
 },
 "nbformat": 4,
 "nbformat_minor": 5
}
